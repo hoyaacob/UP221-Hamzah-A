{
 "cells": [
  {
   "cell_type": "markdown",
   "id": "6e695c31-f418-4420-bbb2-aa5722592afc",
   "metadata": {},
   "source": [
    "# CEO Keep LA County Dining Grant Program\n",
    "\n",
    "## Through this excercise I explore the above dataset. This dataset contains details of grants awarded to restaurants in the city of LA to tide over hard times during the pandemic. The dataset contains multiple variables including the type of restaurant, its zip code and the race of the owner. I will perform various operations to gain a better understanding of the data."
   ]
  },
  {
   "cell_type": "code",
   "execution_count": 1,
   "id": "cf2309ed-9ec2-4973-91b0-ffe42340c444",
   "metadata": {},
   "outputs": [],
   "source": [
    "import pandas as pd"
   ]
  },
  {
   "cell_type": "code",
   "execution_count": 2,
   "id": "ecda1b79-ad80-43e5-a560-db005206f1ea",
   "metadata": {},
   "outputs": [],
   "source": [
    "dataset = pd.read_csv(\"LA County Dining.csv\")"
   ]
  },
  {
   "cell_type": "code",
   "execution_count": 3,
   "id": "bc00dd6b-838a-49fe-a18f-101cabdc5811",
   "metadata": {},
   "outputs": [
    {
     "data": {
      "text/html": [
       "<div>\n",
       "<style scoped>\n",
       "    .dataframe tbody tr th:only-of-type {\n",
       "        vertical-align: middle;\n",
       "    }\n",
       "\n",
       "    .dataframe tbody tr th {\n",
       "        vertical-align: top;\n",
       "    }\n",
       "\n",
       "    .dataframe thead th {\n",
       "        text-align: right;\n",
       "    }\n",
       "</style>\n",
       "<table border=\"1\" class=\"dataframe\">\n",
       "  <thead>\n",
       "    <tr style=\"text-align: right;\">\n",
       "      <th></th>\n",
       "      <th>Application_No_</th>\n",
       "      <th>Amount_Funded</th>\n",
       "      <th>Zip_Code</th>\n",
       "      <th>Supervisorial_District</th>\n",
       "      <th>Round</th>\n",
       "      <th>Entity_Type</th>\n",
       "      <th>District</th>\n",
       "      <th>Date_Business_Established</th>\n",
       "      <th>Industry</th>\n",
       "      <th>Veteran_Status</th>\n",
       "      <th>Ethnicity</th>\n",
       "      <th>Gender</th>\n",
       "      <th>Age_Range_of_Principal</th>\n",
       "      <th>Race</th>\n",
       "      <th>Total___of_Employees_as_of_App_</th>\n",
       "      <th>ObjectId</th>\n",
       "    </tr>\n",
       "  </thead>\n",
       "  <tbody>\n",
       "    <tr>\n",
       "      <th>0</th>\n",
       "      <td>22</td>\n",
       "      <td>30000</td>\n",
       "      <td>91755</td>\n",
       "      <td>1</td>\n",
       "      <td>First</td>\n",
       "      <td>Corporation</td>\n",
       "      <td>1</td>\n",
       "      <td>2017/05/01 00:00:00+00</td>\n",
       "      <td>Restaurant</td>\n",
       "      <td>Non-Veteran</td>\n",
       "      <td>Prefer not to say</td>\n",
       "      <td>Male</td>\n",
       "      <td>45 - 54</td>\n",
       "      <td>Asian</td>\n",
       "      <td>3</td>\n",
       "      <td>1</td>\n",
       "    </tr>\n",
       "    <tr>\n",
       "      <th>1</th>\n",
       "      <td>27</td>\n",
       "      <td>30000</td>\n",
       "      <td>91789</td>\n",
       "      <td>1</td>\n",
       "      <td>First</td>\n",
       "      <td>Corporation</td>\n",
       "      <td>1</td>\n",
       "      <td>2019/02/01 00:00:00+00</td>\n",
       "      <td>Restaurant</td>\n",
       "      <td>Non-Veteran</td>\n",
       "      <td>Not Hispanic / Latino</td>\n",
       "      <td>Female</td>\n",
       "      <td>25 - 34</td>\n",
       "      <td>Asian</td>\n",
       "      <td>9</td>\n",
       "      <td>2</td>\n",
       "    </tr>\n",
       "    <tr>\n",
       "      <th>2</th>\n",
       "      <td>33</td>\n",
       "      <td>30000</td>\n",
       "      <td>91731</td>\n",
       "      <td>1</td>\n",
       "      <td>First</td>\n",
       "      <td>Corporation</td>\n",
       "      <td>1</td>\n",
       "      <td>2011/05/04 00:00:00+00</td>\n",
       "      <td>Restaurant</td>\n",
       "      <td>Non-Veteran</td>\n",
       "      <td>Not Hispanic / Latino</td>\n",
       "      <td>Male</td>\n",
       "      <td>35 - 44</td>\n",
       "      <td>Asian</td>\n",
       "      <td>7</td>\n",
       "      <td>3</td>\n",
       "    </tr>\n",
       "    <tr>\n",
       "      <th>3</th>\n",
       "      <td>36</td>\n",
       "      <td>30000</td>\n",
       "      <td>91711</td>\n",
       "      <td>1</td>\n",
       "      <td>First</td>\n",
       "      <td>Corporation</td>\n",
       "      <td>1</td>\n",
       "      <td>1988/04/29 00:00:00+00</td>\n",
       "      <td>Restaurant</td>\n",
       "      <td>Non-Veteran</td>\n",
       "      <td>Not Hispanic / Latino</td>\n",
       "      <td>Female</td>\n",
       "      <td>25 - 34</td>\n",
       "      <td>Asian</td>\n",
       "      <td>2</td>\n",
       "      <td>4</td>\n",
       "    </tr>\n",
       "    <tr>\n",
       "      <th>4</th>\n",
       "      <td>53</td>\n",
       "      <td>30000</td>\n",
       "      <td>91766</td>\n",
       "      <td>1</td>\n",
       "      <td>First</td>\n",
       "      <td>Corporation</td>\n",
       "      <td>1</td>\n",
       "      <td>2019/12/01 00:00:00+00</td>\n",
       "      <td>Restaurant</td>\n",
       "      <td>Non-Veteran</td>\n",
       "      <td>Prefer not to say</td>\n",
       "      <td>Male</td>\n",
       "      <td>35 - 44</td>\n",
       "      <td>Asian</td>\n",
       "      <td>5</td>\n",
       "      <td>5</td>\n",
       "    </tr>\n",
       "  </tbody>\n",
       "</table>\n",
       "</div>"
      ],
      "text/plain": [
       "   Application_No_  Amount_Funded  Zip_Code  Supervisorial_District  Round  \\\n",
       "0               22          30000     91755                       1  First   \n",
       "1               27          30000     91789                       1  First   \n",
       "2               33          30000     91731                       1  First   \n",
       "3               36          30000     91711                       1  First   \n",
       "4               53          30000     91766                       1  First   \n",
       "\n",
       "   Entity_Type  District Date_Business_Established    Industry Veteran_Status  \\\n",
       "0  Corporation         1    2017/05/01 00:00:00+00  Restaurant    Non-Veteran   \n",
       "1  Corporation         1    2019/02/01 00:00:00+00  Restaurant    Non-Veteran   \n",
       "2  Corporation         1    2011/05/04 00:00:00+00  Restaurant    Non-Veteran   \n",
       "3  Corporation         1    1988/04/29 00:00:00+00  Restaurant    Non-Veteran   \n",
       "4  Corporation         1    2019/12/01 00:00:00+00  Restaurant    Non-Veteran   \n",
       "\n",
       "               Ethnicity  Gender Age_Range_of_Principal   Race  \\\n",
       "0      Prefer not to say    Male                45 - 54  Asian   \n",
       "1  Not Hispanic / Latino  Female                25 - 34  Asian   \n",
       "2  Not Hispanic / Latino    Male                35 - 44  Asian   \n",
       "3  Not Hispanic / Latino  Female                25 - 34  Asian   \n",
       "4      Prefer not to say    Male                35 - 44  Asian   \n",
       "\n",
       "   Total___of_Employees_as_of_App_  ObjectId  \n",
       "0                                3         1  \n",
       "1                                9         2  \n",
       "2                                7         3  \n",
       "3                                2         4  \n",
       "4                                5         5  "
      ]
     },
     "execution_count": 3,
     "metadata": {},
     "output_type": "execute_result"
    }
   ],
   "source": [
    "dataset.head()"
   ]
  },
  {
   "cell_type": "markdown",
   "id": "495ccde0-17a6-4011-8e8b-174d229eb2d5",
   "metadata": {},
   "source": [
    "## This function filters for the first five rows of the data. The table above is the first five rows of data. "
   ]
  },
  {
   "cell_type": "code",
   "execution_count": 4,
   "id": "93c119df-65cf-46bb-a4aa-af9048a26f0d",
   "metadata": {},
   "outputs": [
    {
     "data": {
      "text/plain": [
       "(335, 16)"
      ]
     },
     "execution_count": 4,
     "metadata": {},
     "output_type": "execute_result"
    }
   ],
   "source": [
    "dataset.shape"
   ]
  },
  {
   "cell_type": "markdown",
   "id": "cc85c8f2-7a17-41b0-bf21-5bd7c35ee423",
   "metadata": {},
   "source": [
    "## This function shows the number of rows and columns. In this case, there are 335 rows and 16 columns."
   ]
  },
  {
   "cell_type": "code",
   "execution_count": 5,
   "id": "1a1d436b-27db-4958-961a-9ebc108b1c10",
   "metadata": {},
   "outputs": [
    {
     "name": "stdout",
     "output_type": "stream",
     "text": [
      "<class 'pandas.core.frame.DataFrame'>\n",
      "RangeIndex: 335 entries, 0 to 334\n",
      "Data columns (total 16 columns):\n",
      " #   Column                           Non-Null Count  Dtype \n",
      "---  ------                           --------------  ----- \n",
      " 0   Application_No_                  335 non-null    int64 \n",
      " 1   Amount_Funded                    335 non-null    int64 \n",
      " 2   Zip_Code                         335 non-null    int64 \n",
      " 3   Supervisorial_District           335 non-null    int64 \n",
      " 4   Round                            335 non-null    object\n",
      " 5   Entity_Type                      335 non-null    object\n",
      " 6   District                         335 non-null    int64 \n",
      " 7   Date_Business_Established        335 non-null    object\n",
      " 8   Industry                         335 non-null    object\n",
      " 9   Veteran_Status                   335 non-null    object\n",
      " 10  Ethnicity                        335 non-null    object\n",
      " 11  Gender                           335 non-null    object\n",
      " 12  Age_Range_of_Principal           335 non-null    object\n",
      " 13  Race                             335 non-null    object\n",
      " 14  Total___of_Employees_as_of_App_  335 non-null    int64 \n",
      " 15  ObjectId                         335 non-null    int64 \n",
      "dtypes: int64(7), object(9)\n",
      "memory usage: 42.0+ KB\n"
     ]
    }
   ],
   "source": [
    "dataset.info()"
   ]
  },
  {
   "cell_type": "markdown",
   "id": "57ba7023-2c11-48e4-8d23-fa9ff2b923de",
   "metadata": {},
   "source": [
    "## This dataset shows the types of data present in the dataset."
   ]
  },
  {
   "cell_type": "code",
   "execution_count": 6,
   "id": "ca46525e-fe5c-4127-91d0-eb73d03ef56e",
   "metadata": {},
   "outputs": [
    {
     "data": {
      "text/plain": [
       "<AxesSubplot: >"
      ]
     },
     "execution_count": 6,
     "metadata": {},
     "output_type": "execute_result"
    },
    {
     "data": {
      "image/png": "[encoded data removed]",
      "text/plain": [
       "<Figure size 640x480 with 1 Axes>"
      ]
     },
     "metadata": {},
     "output_type": "display_data"
    }
   ],
   "source": [
    "dataset.plot()"
   ]
  },
  {
   "cell_type": "markdown",
   "id": "219abf50-23f4-4ccb-82d2-f1df916d5b1e",
   "metadata": {},
   "source": [
    "## This function plots the data against the number of cases. In this case it has translated all these values into a numerical value and plotted them against the number of cases."
   ]
  },
  {
   "cell_type": "code",
   "execution_count": 7,
   "id": "6ee95470-2f09-4b04-91e5-b66c9e7d753f",
   "metadata": {},
   "outputs": [
    {
     "data": {
      "text/plain": [
       "Application_No_  Amount_Funded  Zip_Code  Supervisorial_District  Round   Entity_Type      District  Date_Business_Established  Industry    Veteran_Status  Ethnicity              Gender  Age_Range_of_Principal  Race                      Total___of_Employees_as_of_App_  ObjectId\n",
       "13               30000          90265     3                       First   LLC              3         2017/08/23 00:00:00+00     Restaurant  Non-Veteran     Prefer not to say      Male    25 - 34                 Prefer not to say         25                               75          1\n",
       "755              30000          90247     2                       First   LLC              2         2012/03/30 00:00:00+00     Restaurant  Non-Veteran     Hispanic / Latino      Female  35 - 44                 Hispanic / Latino         25                               56          1\n",
       "742              30000          91744     1                       Second  Sole Proprietor  1         1948/10/11 00:00:00+00     Restaurant  Non-Veteran     Hispanic / Latino      Male    Prefer not to say       African American / Black  3                                310         1\n",
       "741              30000          90250     2                       Second  LLC              2         2019/11/02 00:00:00+00     Restaurant  Non-Veteran     Hispanic / Latino      Male    35 - 44                 Hispanic / Latino         6                                330         1\n",
       "736              30000          90069     3                       Second  LLC              3         2018/02/01 00:00:00+00     Restaurant  Non-Veteran     Hispanic / Latino      Male    55 - 64                 African American / Black  20                               202         1\n",
       "                                                                                                                                                                                                                                                                                         ..\n",
       "256              30000          91030     5                       Second  Corporation      5         2005/07/03 00:00:00+00     Restaurant  Non-Veteran     Not Hispanic / Latino  Male    45 - 54                 Asian                     24                               256         1\n",
       "253              30000          93550     5                       First   Sole Proprietor  5         2017/01/10 00:00:00+00     Restaurant  Non-Veteran     Hispanic / Latino      Male    18 - 24                 African American / Black  6                                282         1\n",
       "249              30000          91301     3                       First   Corporation      3         2014/12/11 00:00:00+00     Restaurant  Non-Veteran     Not Hispanic / Latino  Male    55 - 64                 White                     22                               93          1\n",
       "246              30000          90701     4                       First   Corporation      4         1992/11/28 00:00:00+00     Restaurant  Non-Veteran     Not Hispanic / Latino  Female  25 - 34                 Asian                     12                               131         1\n",
       "3407             30000          91321     5                       First   Corporation      5         2006/06/24 00:00:00+00     Restaurant  Non-Veteran     Not Hispanic / Latino  Male    45 - 54                 Asian                     6                                296         1\n",
       "Length: 335, dtype: int64"
      ]
     },
     "execution_count": 7,
     "metadata": {},
     "output_type": "execute_result"
    }
   ],
   "source": [
    "dataset.value_counts()"
   ]
  },
  {
   "cell_type": "markdown",
   "id": "fe37a99e-5ba7-4f16-be81-fe1ca6406674",
   "metadata": {},
   "source": [
    "## Through this operation, I have found the number of cases for each variable in the dataset."
   ]
  },
  {
   "cell_type": "code",
   "execution_count": 8,
   "id": "cd1d2871-541d-4211-bcf3-11bd2eec4445",
   "metadata": {},
   "outputs": [
    {
     "data": {
      "text/html": [
       "<div>\n",
       "<style scoped>\n",
       "    .dataframe tbody tr th:only-of-type {\n",
       "        vertical-align: middle;\n",
       "    }\n",
       "\n",
       "    .dataframe tbody tr th {\n",
       "        vertical-align: top;\n",
       "    }\n",
       "\n",
       "    .dataframe thead th {\n",
       "        text-align: right;\n",
       "    }\n",
       "</style>\n",
       "<table border=\"1\" class=\"dataframe\">\n",
       "  <thead>\n",
       "    <tr style=\"text-align: right;\">\n",
       "      <th></th>\n",
       "      <th>Application_No_</th>\n",
       "      <th>Amount_Funded</th>\n",
       "      <th>Zip_Code</th>\n",
       "      <th>Supervisorial_District</th>\n",
       "      <th>Round</th>\n",
       "      <th>Entity_Type</th>\n",
       "      <th>District</th>\n",
       "      <th>Date_Business_Established</th>\n",
       "      <th>Industry</th>\n",
       "      <th>Veteran_Status</th>\n",
       "      <th>Ethnicity</th>\n",
       "      <th>Gender</th>\n",
       "      <th>Age_Range_of_Principal</th>\n",
       "      <th>Race</th>\n",
       "      <th>Total___of_Employees_as_of_App_</th>\n",
       "      <th>ObjectId</th>\n",
       "    </tr>\n",
       "  </thead>\n",
       "  <tbody>\n",
       "    <tr>\n",
       "      <th>44</th>\n",
       "      <td>215</td>\n",
       "      <td>30000</td>\n",
       "      <td>90262</td>\n",
       "      <td>2</td>\n",
       "      <td>First</td>\n",
       "      <td>Corporation</td>\n",
       "      <td>2</td>\n",
       "      <td>2019/08/01 00:00:00+00</td>\n",
       "      <td>Restaurant</td>\n",
       "      <td>Non-Veteran</td>\n",
       "      <td>Hispanic / Latino</td>\n",
       "      <td>Female</td>\n",
       "      <td>35 - 44</td>\n",
       "      <td>Hispanic / Latino</td>\n",
       "      <td>2</td>\n",
       "      <td>45</td>\n",
       "    </tr>\n",
       "    <tr>\n",
       "      <th>249</th>\n",
       "      <td>75</td>\n",
       "      <td>30000</td>\n",
       "      <td>91006</td>\n",
       "      <td>5</td>\n",
       "      <td>Second</td>\n",
       "      <td>Corporation</td>\n",
       "      <td>5</td>\n",
       "      <td>2019/06/01 00:00:00+00</td>\n",
       "      <td>Restaurant</td>\n",
       "      <td>Non-Veteran</td>\n",
       "      <td>Not Hispanic / Latino</td>\n",
       "      <td>Male</td>\n",
       "      <td>45 - 54</td>\n",
       "      <td>Asian</td>\n",
       "      <td>6</td>\n",
       "      <td>250</td>\n",
       "    </tr>\n",
       "    <tr>\n",
       "      <th>224</th>\n",
       "      <td>296</td>\n",
       "      <td>30000</td>\n",
       "      <td>91748</td>\n",
       "      <td>4</td>\n",
       "      <td>Second</td>\n",
       "      <td>LLC</td>\n",
       "      <td>4</td>\n",
       "      <td>2018/11/02 00:00:00+00</td>\n",
       "      <td>Restaurant</td>\n",
       "      <td>Non-Veteran</td>\n",
       "      <td>Not Hispanic / Latino</td>\n",
       "      <td>Female</td>\n",
       "      <td>25 - 34</td>\n",
       "      <td>Asian</td>\n",
       "      <td>5</td>\n",
       "      <td>225</td>\n",
       "    </tr>\n",
       "    <tr>\n",
       "      <th>173</th>\n",
       "      <td>1875</td>\n",
       "      <td>30000</td>\n",
       "      <td>90230</td>\n",
       "      <td>2</td>\n",
       "      <td>Second</td>\n",
       "      <td>Corporation</td>\n",
       "      <td>2</td>\n",
       "      <td>2017/04/17 00:00:00+00</td>\n",
       "      <td>Restaurant</td>\n",
       "      <td>Non-Veteran</td>\n",
       "      <td>Not Hispanic / Latino</td>\n",
       "      <td>Male</td>\n",
       "      <td>45 - 54</td>\n",
       "      <td>Multi-Racial / Other</td>\n",
       "      <td>1</td>\n",
       "      <td>174</td>\n",
       "    </tr>\n",
       "    <tr>\n",
       "      <th>70</th>\n",
       "      <td>1569</td>\n",
       "      <td>30000</td>\n",
       "      <td>90247</td>\n",
       "      <td>2</td>\n",
       "      <td>First</td>\n",
       "      <td>Corporation</td>\n",
       "      <td>2</td>\n",
       "      <td>2020/01/01 00:00:00+00</td>\n",
       "      <td>Restaurant</td>\n",
       "      <td>Non-Veteran</td>\n",
       "      <td>Not Hispanic / Latino</td>\n",
       "      <td>Female</td>\n",
       "      <td>35 - 44</td>\n",
       "      <td>Asian</td>\n",
       "      <td>19</td>\n",
       "      <td>71</td>\n",
       "    </tr>\n",
       "  </tbody>\n",
       "</table>\n",
       "</div>"
      ],
      "text/plain": [
       "     Application_No_  Amount_Funded  Zip_Code  Supervisorial_District   Round  \\\n",
       "44               215          30000     90262                       2   First   \n",
       "249               75          30000     91006                       5  Second   \n",
       "224              296          30000     91748                       4  Second   \n",
       "173             1875          30000     90230                       2  Second   \n",
       "70              1569          30000     90247                       2   First   \n",
       "\n",
       "     Entity_Type  District Date_Business_Established    Industry  \\\n",
       "44   Corporation         2    2019/08/01 00:00:00+00  Restaurant   \n",
       "249  Corporation         5    2019/06/01 00:00:00+00  Restaurant   \n",
       "224          LLC         4    2018/11/02 00:00:00+00  Restaurant   \n",
       "173  Corporation         2    2017/04/17 00:00:00+00  Restaurant   \n",
       "70   Corporation         2    2020/01/01 00:00:00+00  Restaurant   \n",
       "\n",
       "    Veteran_Status              Ethnicity  Gender Age_Range_of_Principal  \\\n",
       "44     Non-Veteran      Hispanic / Latino  Female                35 - 44   \n",
       "249    Non-Veteran  Not Hispanic / Latino    Male                45 - 54   \n",
       "224    Non-Veteran  Not Hispanic / Latino  Female                25 - 34   \n",
       "173    Non-Veteran  Not Hispanic / Latino    Male                45 - 54   \n",
       "70     Non-Veteran  Not Hispanic / Latino  Female                35 - 44   \n",
       "\n",
       "                     Race  Total___of_Employees_as_of_App_  ObjectId  \n",
       "44      Hispanic / Latino                                2        45  \n",
       "249                 Asian                                6       250  \n",
       "224                 Asian                                5       225  \n",
       "173  Multi-Racial / Other                                1       174  \n",
       "70                  Asian                               19        71  "
      ]
     },
     "execution_count": 8,
     "metadata": {},
     "output_type": "execute_result"
    }
   ],
   "source": [
    "dataset.sample(5)"
   ]
  },
  {
   "cell_type": "markdown",
   "id": "dcb4be41-6ddc-4a9c-862c-94bdbfebb430",
   "metadata": {},
   "source": [
    "## This function samples five random rows from the dataset. Above are 5 random rows."
   ]
  },
  {
   "cell_type": "code",
   "execution_count": 9,
   "id": "c7bb921a-ad64-46c9-9d57-eab7716a2141",
   "metadata": {},
   "outputs": [
    {
     "data": {
      "text/html": [
       "<div>\n",
       "<style scoped>\n",
       "    .dataframe tbody tr th:only-of-type {\n",
       "        vertical-align: middle;\n",
       "    }\n",
       "\n",
       "    .dataframe tbody tr th {\n",
       "        vertical-align: top;\n",
       "    }\n",
       "\n",
       "    .dataframe thead th {\n",
       "        text-align: right;\n",
       "    }\n",
       "</style>\n",
       "<table border=\"1\" class=\"dataframe\">\n",
       "  <thead>\n",
       "    <tr style=\"text-align: right;\">\n",
       "      <th></th>\n",
       "      <th>Application_No_</th>\n",
       "      <th>Amount_Funded</th>\n",
       "      <th>Zip_Code</th>\n",
       "      <th>Supervisorial_District</th>\n",
       "      <th>Round</th>\n",
       "      <th>Entity_Type</th>\n",
       "      <th>District</th>\n",
       "      <th>Date_Business_Established</th>\n",
       "      <th>Industry</th>\n",
       "      <th>Veteran_Status</th>\n",
       "      <th>Ethnicity</th>\n",
       "      <th>Gender</th>\n",
       "      <th>Age_Range_of_Principal</th>\n",
       "      <th>Race</th>\n",
       "      <th>Total___of_Employees_as_of_App_</th>\n",
       "      <th>ObjectId</th>\n",
       "    </tr>\n",
       "  </thead>\n",
       "  <tbody>\n",
       "    <tr>\n",
       "      <th>0</th>\n",
       "      <td>22</td>\n",
       "      <td>30000</td>\n",
       "      <td>91755</td>\n",
       "      <td>1</td>\n",
       "      <td>First</td>\n",
       "      <td>Corporation</td>\n",
       "      <td>1</td>\n",
       "      <td>2017/05/01 00:00:00+00</td>\n",
       "      <td>Restaurant</td>\n",
       "      <td>Non-Veteran</td>\n",
       "      <td>Prefer not to say</td>\n",
       "      <td>Male</td>\n",
       "      <td>45 - 54</td>\n",
       "      <td>Asian</td>\n",
       "      <td>3</td>\n",
       "      <td>1</td>\n",
       "    </tr>\n",
       "    <tr>\n",
       "      <th>1</th>\n",
       "      <td>27</td>\n",
       "      <td>30000</td>\n",
       "      <td>91789</td>\n",
       "      <td>1</td>\n",
       "      <td>First</td>\n",
       "      <td>Corporation</td>\n",
       "      <td>1</td>\n",
       "      <td>2019/02/01 00:00:00+00</td>\n",
       "      <td>Restaurant</td>\n",
       "      <td>Non-Veteran</td>\n",
       "      <td>Not Hispanic / Latino</td>\n",
       "      <td>Female</td>\n",
       "      <td>25 - 34</td>\n",
       "      <td>Asian</td>\n",
       "      <td>9</td>\n",
       "      <td>2</td>\n",
       "    </tr>\n",
       "    <tr>\n",
       "      <th>2</th>\n",
       "      <td>33</td>\n",
       "      <td>30000</td>\n",
       "      <td>91731</td>\n",
       "      <td>1</td>\n",
       "      <td>First</td>\n",
       "      <td>Corporation</td>\n",
       "      <td>1</td>\n",
       "      <td>2011/05/04 00:00:00+00</td>\n",
       "      <td>Restaurant</td>\n",
       "      <td>Non-Veteran</td>\n",
       "      <td>Not Hispanic / Latino</td>\n",
       "      <td>Male</td>\n",
       "      <td>35 - 44</td>\n",
       "      <td>Asian</td>\n",
       "      <td>7</td>\n",
       "      <td>3</td>\n",
       "    </tr>\n",
       "    <tr>\n",
       "      <th>3</th>\n",
       "      <td>36</td>\n",
       "      <td>30000</td>\n",
       "      <td>91711</td>\n",
       "      <td>1</td>\n",
       "      <td>First</td>\n",
       "      <td>Corporation</td>\n",
       "      <td>1</td>\n",
       "      <td>1988/04/29 00:00:00+00</td>\n",
       "      <td>Restaurant</td>\n",
       "      <td>Non-Veteran</td>\n",
       "      <td>Not Hispanic / Latino</td>\n",
       "      <td>Female</td>\n",
       "      <td>25 - 34</td>\n",
       "      <td>Asian</td>\n",
       "      <td>2</td>\n",
       "      <td>4</td>\n",
       "    </tr>\n",
       "    <tr>\n",
       "      <th>4</th>\n",
       "      <td>53</td>\n",
       "      <td>30000</td>\n",
       "      <td>91766</td>\n",
       "      <td>1</td>\n",
       "      <td>First</td>\n",
       "      <td>Corporation</td>\n",
       "      <td>1</td>\n",
       "      <td>2019/12/01 00:00:00+00</td>\n",
       "      <td>Restaurant</td>\n",
       "      <td>Non-Veteran</td>\n",
       "      <td>Prefer not to say</td>\n",
       "      <td>Male</td>\n",
       "      <td>35 - 44</td>\n",
       "      <td>Asian</td>\n",
       "      <td>5</td>\n",
       "      <td>5</td>\n",
       "    </tr>\n",
       "    <tr>\n",
       "      <th>...</th>\n",
       "      <td>...</td>\n",
       "      <td>...</td>\n",
       "      <td>...</td>\n",
       "      <td>...</td>\n",
       "      <td>...</td>\n",
       "      <td>...</td>\n",
       "      <td>...</td>\n",
       "      <td>...</td>\n",
       "      <td>...</td>\n",
       "      <td>...</td>\n",
       "      <td>...</td>\n",
       "      <td>...</td>\n",
       "      <td>...</td>\n",
       "      <td>...</td>\n",
       "      <td>...</td>\n",
       "      <td>...</td>\n",
       "    </tr>\n",
       "    <tr>\n",
       "      <th>321</th>\n",
       "      <td>1226</td>\n",
       "      <td>30000</td>\n",
       "      <td>91702</td>\n",
       "      <td>1</td>\n",
       "      <td>Second</td>\n",
       "      <td>Corporation</td>\n",
       "      <td>1</td>\n",
       "      <td>1972/09/05 00:00:00+00</td>\n",
       "      <td>Restaurant</td>\n",
       "      <td>Non-Veteran</td>\n",
       "      <td>Not Hispanic / Latino</td>\n",
       "      <td>Female</td>\n",
       "      <td>45 - 54</td>\n",
       "      <td>Asian</td>\n",
       "      <td>4</td>\n",
       "      <td>322</td>\n",
       "    </tr>\n",
       "    <tr>\n",
       "      <th>322</th>\n",
       "      <td>1249</td>\n",
       "      <td>30000</td>\n",
       "      <td>91732</td>\n",
       "      <td>1</td>\n",
       "      <td>Second</td>\n",
       "      <td>Corporation</td>\n",
       "      <td>1</td>\n",
       "      <td>2014/09/29 00:00:00+00</td>\n",
       "      <td>Restaurant</td>\n",
       "      <td>Non-Veteran</td>\n",
       "      <td>Not Hispanic / Latino</td>\n",
       "      <td>Female</td>\n",
       "      <td>55 - 64</td>\n",
       "      <td>Asian</td>\n",
       "      <td>6</td>\n",
       "      <td>323</td>\n",
       "    </tr>\n",
       "    <tr>\n",
       "      <th>323</th>\n",
       "      <td>1427</td>\n",
       "      <td>30000</td>\n",
       "      <td>91706</td>\n",
       "      <td>1</td>\n",
       "      <td>Second</td>\n",
       "      <td>LLC</td>\n",
       "      <td>1</td>\n",
       "      <td>2013/02/20 00:00:00+00</td>\n",
       "      <td>Restaurant</td>\n",
       "      <td>Non-Veteran</td>\n",
       "      <td>Not Hispanic / Latino</td>\n",
       "      <td>Female</td>\n",
       "      <td>55 - 64</td>\n",
       "      <td>Asian</td>\n",
       "      <td>2</td>\n",
       "      <td>324</td>\n",
       "    </tr>\n",
       "    <tr>\n",
       "      <th>330</th>\n",
       "      <td>933</td>\n",
       "      <td>30000</td>\n",
       "      <td>90249</td>\n",
       "      <td>2</td>\n",
       "      <td>Second</td>\n",
       "      <td>Corporation</td>\n",
       "      <td>2</td>\n",
       "      <td>2019/01/10 00:00:00+00</td>\n",
       "      <td>Restaurant</td>\n",
       "      <td>Non-Veteran</td>\n",
       "      <td>Not Hispanic / Latino</td>\n",
       "      <td>Female</td>\n",
       "      <td>55 - 64</td>\n",
       "      <td>Asian</td>\n",
       "      <td>6</td>\n",
       "      <td>331</td>\n",
       "    </tr>\n",
       "    <tr>\n",
       "      <th>331</th>\n",
       "      <td>955</td>\n",
       "      <td>30000</td>\n",
       "      <td>90066</td>\n",
       "      <td>2</td>\n",
       "      <td>Second</td>\n",
       "      <td>Corporation</td>\n",
       "      <td>2</td>\n",
       "      <td>2005/01/01 00:00:00+00</td>\n",
       "      <td>Restaurant</td>\n",
       "      <td>Non-Veteran</td>\n",
       "      <td>Not Hispanic / Latino</td>\n",
       "      <td>Female</td>\n",
       "      <td>55 - 64</td>\n",
       "      <td>Asian</td>\n",
       "      <td>10</td>\n",
       "      <td>332</td>\n",
       "    </tr>\n",
       "  </tbody>\n",
       "</table>\n",
       "<p>150 rows × 16 columns</p>\n",
       "</div>"
      ],
      "text/plain": [
       "     Application_No_  Amount_Funded  Zip_Code  Supervisorial_District   Round  \\\n",
       "0                 22          30000     91755                       1   First   \n",
       "1                 27          30000     91789                       1   First   \n",
       "2                 33          30000     91731                       1   First   \n",
       "3                 36          30000     91711                       1   First   \n",
       "4                 53          30000     91766                       1   First   \n",
       "..               ...            ...       ...                     ...     ...   \n",
       "321             1226          30000     91702                       1  Second   \n",
       "322             1249          30000     91732                       1  Second   \n",
       "323             1427          30000     91706                       1  Second   \n",
       "330              933          30000     90249                       2  Second   \n",
       "331              955          30000     90066                       2  Second   \n",
       "\n",
       "     Entity_Type  District Date_Business_Established    Industry  \\\n",
       "0    Corporation         1    2017/05/01 00:00:00+00  Restaurant   \n",
       "1    Corporation         1    2019/02/01 00:00:00+00  Restaurant   \n",
       "2    Corporation         1    2011/05/04 00:00:00+00  Restaurant   \n",
       "3    Corporation         1    1988/04/29 00:00:00+00  Restaurant   \n",
       "4    Corporation         1    2019/12/01 00:00:00+00  Restaurant   \n",
       "..           ...       ...                       ...         ...   \n",
       "321  Corporation         1    1972/09/05 00:00:00+00  Restaurant   \n",
       "322  Corporation         1    2014/09/29 00:00:00+00  Restaurant   \n",
       "323          LLC         1    2013/02/20 00:00:00+00  Restaurant   \n",
       "330  Corporation         2    2019/01/10 00:00:00+00  Restaurant   \n",
       "331  Corporation         2    2005/01/01 00:00:00+00  Restaurant   \n",
       "\n",
       "    Veteran_Status              Ethnicity  Gender Age_Range_of_Principal  \\\n",
       "0      Non-Veteran      Prefer not to say    Male                45 - 54   \n",
       "1      Non-Veteran  Not Hispanic / Latino  Female                25 - 34   \n",
       "2      Non-Veteran  Not Hispanic / Latino    Male                35 - 44   \n",
       "3      Non-Veteran  Not Hispanic / Latino  Female                25 - 34   \n",
       "4      Non-Veteran      Prefer not to say    Male                35 - 44   \n",
       "..             ...                    ...     ...                    ...   \n",
       "321    Non-Veteran  Not Hispanic / Latino  Female                45 - 54   \n",
       "322    Non-Veteran  Not Hispanic / Latino  Female                55 - 64   \n",
       "323    Non-Veteran  Not Hispanic / Latino  Female                55 - 64   \n",
       "330    Non-Veteran  Not Hispanic / Latino  Female                55 - 64   \n",
       "331    Non-Veteran  Not Hispanic / Latino  Female                55 - 64   \n",
       "\n",
       "      Race  Total___of_Employees_as_of_App_  ObjectId  \n",
       "0    Asian                                3         1  \n",
       "1    Asian                                9         2  \n",
       "2    Asian                                7         3  \n",
       "3    Asian                                2         4  \n",
       "4    Asian                                5         5  \n",
       "..     ...                              ...       ...  \n",
       "321  Asian                                4       322  \n",
       "322  Asian                                6       323  \n",
       "323  Asian                                2       324  \n",
       "330  Asian                                6       331  \n",
       "331  Asian                               10       332  \n",
       "\n",
       "[150 rows x 16 columns]"
      ]
     },
     "execution_count": 9,
     "metadata": {},
     "output_type": "execute_result"
    }
   ],
   "source": [
    "dataset.loc[dataset.Race == 'Asian']"
   ]
  },
  {
   "cell_type": "markdown",
   "id": "054bfc0f-3e98-4f99-8c86-7d8dcd08ae33",
   "metadata": {},
   "source": [
    "## Through this operation, I filter for all restaurants that have an Asian owner."
   ]
  },
  {
   "cell_type": "code",
   "execution_count": 10,
   "id": "3dbece84-f5a8-41b2-a7c9-1791eafa79ab",
   "metadata": {},
   "outputs": [
    {
     "data": {
      "text/plain": [
       "Application_No_  Amount_Funded  Zip_Code  Supervisorial_District  Round   Entity_Type      District  Date_Business_Established  Industry    Veteran_Status  Ethnicity              Gender  Age_Range_of_Principal  Race                      Total___of_Employees_as_of_App_  ObjectId\n",
       "13               30000          90265     3                       First   LLC              3         2017/08/23 00:00:00+00     Restaurant  Non-Veteran     Prefer not to say      Male    25 - 34                 Prefer not to say         25                               75          1\n",
       "755              30000          90247     2                       First   LLC              2         2012/03/30 00:00:00+00     Restaurant  Non-Veteran     Hispanic / Latino      Female  35 - 44                 Hispanic / Latino         25                               56          1\n",
       "742              30000          91744     1                       Second  Sole Proprietor  1         1948/10/11 00:00:00+00     Restaurant  Non-Veteran     Hispanic / Latino      Male    Prefer not to say       African American / Black  3                                310         1\n",
       "741              30000          90250     2                       Second  LLC              2         2019/11/02 00:00:00+00     Restaurant  Non-Veteran     Hispanic / Latino      Male    35 - 44                 Hispanic / Latino         6                                330         1\n",
       "736              30000          90069     3                       Second  LLC              3         2018/02/01 00:00:00+00     Restaurant  Non-Veteran     Hispanic / Latino      Male    55 - 64                 African American / Black  20                               202         1\n",
       "                                                                                                                                                                                                                                                                                         ..\n",
       "256              30000          91030     5                       Second  Corporation      5         2005/07/03 00:00:00+00     Restaurant  Non-Veteran     Not Hispanic / Latino  Male    45 - 54                 Asian                     24                               256         1\n",
       "253              30000          93550     5                       First   Sole Proprietor  5         2017/01/10 00:00:00+00     Restaurant  Non-Veteran     Hispanic / Latino      Male    18 - 24                 African American / Black  6                                282         1\n",
       "249              30000          91301     3                       First   Corporation      3         2014/12/11 00:00:00+00     Restaurant  Non-Veteran     Not Hispanic / Latino  Male    55 - 64                 White                     22                               93          1\n",
       "246              30000          90701     4                       First   Corporation      4         1992/11/28 00:00:00+00     Restaurant  Non-Veteran     Not Hispanic / Latino  Female  25 - 34                 Asian                     12                               131         1\n",
       "3407             30000          91321     5                       First   Corporation      5         2006/06/24 00:00:00+00     Restaurant  Non-Veteran     Not Hispanic / Latino  Male    45 - 54                 Asian                     6                                296         1\n",
       "Length: 335, dtype: int64"
      ]
     },
     "execution_count": 10,
     "metadata": {},
     "output_type": "execute_result"
    }
   ],
   "source": [
    "dataset.value_counts()"
   ]
  },
  {
   "cell_type": "markdown",
   "id": "b9e63fd7-6b14-438e-a6e0-8e9e975188db",
   "metadata": {},
   "source": [
    "## Through this function, I have found the number of cases for each variable in the dataset."
   ]
  },
  {
   "cell_type": "code",
   "execution_count": 11,
   "id": "3f326a34-aeaa-467b-9595-618f07e34ac6",
   "metadata": {},
   "outputs": [
    {
     "data": {
      "text/plain": [
       "Corporation        203\n",
       "LLC                 98\n",
       "Sole Proprietor     27\n",
       "Partnership          7\n",
       "Name: Entity_Type, dtype: int64"
      ]
     },
     "execution_count": 11,
     "metadata": {},
     "output_type": "execute_result"
    }
   ],
   "source": [
    "Entity=dataset['Entity_Type'].value_counts()\n",
    "Entity"
   ]
  },
  {
   "cell_type": "markdown",
   "id": "da033e24-ceff-4efb-8c2e-5dc3c7f6a228",
   "metadata": {},
   "source": [
    "## Through this operation, I have filtered for the column 'Entity_Type' and found the number of cases for each value in the column."
   ]
  },
  {
   "cell_type": "code",
   "execution_count": 12,
   "id": "8a026e30-eb1d-402f-b521-df04e335e80f",
   "metadata": {},
   "outputs": [
    {
     "data": {
      "text/html": [
       "<div>\n",
       "<style scoped>\n",
       "    .dataframe tbody tr th:only-of-type {\n",
       "        vertical-align: middle;\n",
       "    }\n",
       "\n",
       "    .dataframe tbody tr th {\n",
       "        vertical-align: top;\n",
       "    }\n",
       "\n",
       "    .dataframe thead th {\n",
       "        text-align: right;\n",
       "    }\n",
       "</style>\n",
       "<table border=\"1\" class=\"dataframe\">\n",
       "  <thead>\n",
       "    <tr style=\"text-align: right;\">\n",
       "      <th></th>\n",
       "      <th>index</th>\n",
       "      <th>Entity_Type</th>\n",
       "    </tr>\n",
       "  </thead>\n",
       "  <tbody>\n",
       "    <tr>\n",
       "      <th>0</th>\n",
       "      <td>Corporation</td>\n",
       "      <td>203</td>\n",
       "    </tr>\n",
       "    <tr>\n",
       "      <th>1</th>\n",
       "      <td>LLC</td>\n",
       "      <td>98</td>\n",
       "    </tr>\n",
       "    <tr>\n",
       "      <th>2</th>\n",
       "      <td>Sole Proprietor</td>\n",
       "      <td>27</td>\n",
       "    </tr>\n",
       "    <tr>\n",
       "      <th>3</th>\n",
       "      <td>Partnership</td>\n",
       "      <td>7</td>\n",
       "    </tr>\n",
       "  </tbody>\n",
       "</table>\n",
       "</div>"
      ],
      "text/plain": [
       "             index  Entity_Type\n",
       "0      Corporation          203\n",
       "1              LLC           98\n",
       "2  Sole Proprietor           27\n",
       "3      Partnership            7"
      ]
     },
     "execution_count": 12,
     "metadata": {},
     "output_type": "execute_result"
    }
   ],
   "source": [
    "Entity=Entity.reset_index()\n",
    "Entity"
   ]
  },
  {
   "cell_type": "markdown",
   "id": "b0b0ae2a-f0e5-4c1c-99fd-af4109fe97ab",
   "metadata": {},
   "source": [
    "## Through this operation, I have converted the above series into a dataframe."
   ]
  },
  {
   "cell_type": "code",
   "execution_count": 13,
   "id": "32468508-8bbb-46e0-a8e0-3abf00adf74b",
   "metadata": {},
   "outputs": [
    {
     "data": {
      "text/plain": [
       "['index', 'Entity_Type']"
      ]
     },
     "execution_count": 13,
     "metadata": {},
     "output_type": "execute_result"
    }
   ],
   "source": [
    "Entity.columns.to_list()"
   ]
  },
  {
   "cell_type": "markdown",
   "id": "18af3e65-067e-4375-9166-35ad307bb7bc",
   "metadata": {},
   "source": [
    "## Through this operation, I have created a list out of the above columns."
   ]
  },
  {
   "cell_type": "code",
   "execution_count": 14,
   "id": "64d88c39-518b-44c0-b50f-ab80cd35cfb4",
   "metadata": {},
   "outputs": [
    {
     "data": {
      "text/html": [
       "<div>\n",
       "<style scoped>\n",
       "    .dataframe tbody tr th:only-of-type {\n",
       "        vertical-align: middle;\n",
       "    }\n",
       "\n",
       "    .dataframe tbody tr th {\n",
       "        vertical-align: top;\n",
       "    }\n",
       "\n",
       "    .dataframe thead th {\n",
       "        text-align: right;\n",
       "    }\n",
       "</style>\n",
       "<table border=\"1\" class=\"dataframe\">\n",
       "  <thead>\n",
       "    <tr style=\"text-align: right;\">\n",
       "      <th></th>\n",
       "      <th>Entity</th>\n",
       "      <th>count</th>\n",
       "    </tr>\n",
       "  </thead>\n",
       "  <tbody>\n",
       "    <tr>\n",
       "      <th>0</th>\n",
       "      <td>Corporation</td>\n",
       "      <td>203</td>\n",
       "    </tr>\n",
       "    <tr>\n",
       "      <th>1</th>\n",
       "      <td>LLC</td>\n",
       "      <td>98</td>\n",
       "    </tr>\n",
       "    <tr>\n",
       "      <th>2</th>\n",
       "      <td>Sole Proprietor</td>\n",
       "      <td>27</td>\n",
       "    </tr>\n",
       "    <tr>\n",
       "      <th>3</th>\n",
       "      <td>Partnership</td>\n",
       "      <td>7</td>\n",
       "    </tr>\n",
       "  </tbody>\n",
       "</table>\n",
       "</div>"
      ],
      "text/plain": [
       "            Entity  count\n",
       "0      Corporation    203\n",
       "1              LLC     98\n",
       "2  Sole Proprietor     27\n",
       "3      Partnership      7"
      ]
     },
     "execution_count": 14,
     "metadata": {},
     "output_type": "execute_result"
    }
   ],
   "source": [
    "Entity.columns = ['Entity', 'count']\n",
    "Entity"
   ]
  },
  {
   "cell_type": "markdown",
   "id": "1c48f313-4fd9-43b9-a2c2-728e5bcc4cea",
   "metadata": {},
   "source": [
    "## Rename columns and filtering down to two main columns I want in order to create a barplot."
   ]
  },
  {
   "cell_type": "code",
   "execution_count": 15,
   "id": "5f3bb187-27c4-478f-b6c4-e3925f14fea8",
   "metadata": {},
   "outputs": [],
   "source": [
    "import matplotlib.pyplot as mp"
   ]
  },
  {
   "cell_type": "code",
   "execution_count": 16,
   "id": "7a678602-72e7-4a29-8f5b-8e85fddbeee5",
   "metadata": {},
   "outputs": [],
   "source": [
    "Entity = pd.DataFrame(Entity.head(), columns=[\"Entity\",\"count\"])"
   ]
  },
  {
   "cell_type": "markdown",
   "id": "ccb8516d-fd41-4add-877f-b315c2bb3598",
   "metadata": {},
   "source": [
    "## Inputing the columns needed to create my barplot."
   ]
  },
  {
   "cell_type": "code",
   "execution_count": 17,
   "id": "dd3a1704-768b-4005-b900-6a29f9bef8f4",
   "metadata": {},
   "outputs": [
    {
     "data": {
      "text/plain": [
       "<AxesSubplot: xlabel='Entity'>"
      ]
     },
     "execution_count": 17,
     "metadata": {},
     "output_type": "execute_result"
    },
    {
     "data": {
      "image/png": "[encoded data removed]",
      "text/plain": [
       "<Figure size 1000x900 with 1 Axes>"
      ]
     },
     "metadata": {},
     "output_type": "display_data"
    }
   ],
   "source": [
    "Entity.plot(x=\"Entity\", y=\"count\", kind=\"bar\", figsize=(10, 9))"
   ]
  },
  {
   "cell_type": "markdown",
   "id": "93385ec7-3929-49ac-8a06-d91a3ca62d28",
   "metadata": {},
   "source": [
    "## Creating my barplot by assigning the appropriate x and y values"
   ]
  },
  {
   "cell_type": "code",
   "execution_count": null,
   "id": "43d97def-f87a-4052-a056-fab5a4ece0a9",
   "metadata": {},
   "outputs": [],
   "source": []
  },
  {
   "cell_type": "code",
   "execution_count": null,
   "id": "c4aaf68b-14b8-45e8-8604-ab22f4220fe4",
   "metadata": {},
   "outputs": [],
   "source": []
  },
  {
   "cell_type": "code",
   "execution_count": null,
   "id": "59458e78-2ac4-40e6-90c5-8b79915b5a23",
   "metadata": {},
   "outputs": [],
   "source": []
  }
 ],
 "metadata": {
  "kernelspec": {
   "display_name": "Python 3 (ipykernel)",
   "language": "python",
   "name": "python3"
  },
  "language_info": {
   "codemirror_mode": {
    "name": "ipython",
    "version": 3
   },
   "file_extension": ".py",
   "mimetype": "text/x-python",
   "name": "python",
   "nbconvert_exporter": "python",
   "pygments_lexer": "ipython3",
   "version": "3.10.8"
  }
 },
 "nbformat": 4,
 "nbformat_minor": 5
}
